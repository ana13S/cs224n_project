{
 "cells": [
  {
   "cell_type": "markdown",
   "source": [
    "Import the relevant packages"
   ],
   "metadata": {
    "collapsed": false
   }
  },
  {
   "cell_type": "code",
   "execution_count": 61,
   "outputs": [],
   "source": [
    "import numpy as np\n",
    "import pandas as pd\n",
    "import ast\n",
    "from sklearn.feature_extraction.text import CountVectorizer\n",
    "from sklearn.linear_model import LogisticRegression\n",
    "from sklearn.metrics import f1_score\n",
    "from sklearn.metrics import confusion_matrix"
   ],
   "metadata": {
    "collapsed": false
   }
  },
  {
   "cell_type": "markdown",
   "source": [
    "specify the labels"
   ],
   "metadata": {
    "collapsed": false
   }
  },
  {
   "cell_type": "code",
   "execution_count": 62,
   "outputs": [],
   "source": [
    "comorbidities = [\"obesity\"]     # just one for the progress report, will be more in the future"
   ],
   "metadata": {
    "collapsed": false
   }
  },
  {
   "cell_type": "markdown",
   "source": [
    "load in data"
   ],
   "metadata": {
    "collapsed": false
   }
  },
  {
   "cell_type": "code",
   "execution_count": 63,
   "outputs": [
    {
     "name": "stdout",
     "output_type": "stream",
     "text": [
      "                                                notes label\n",
      "0   ['Patient', 'gender', 'female', 'They', 'born'...     N\n",
      "1   ['Patient', 'gender', 'female', 'They', 'born'...     N\n",
      "2   ['Patient', 'gender', 'female', 'They', 'born'...     N\n",
      "3   ['Patient', 'gender', 'female', 'They', 'born'...     N\n",
      "4   ['Patient', 'gender', 'male', 'They', 'born', ...     N\n",
      "..                                                ...   ...\n",
      "95  ['Patient', 'gender', 'male', 'They', 'born', ...     N\n",
      "96  ['Patient', 'gender', 'male', 'They', 'born', ...     N\n",
      "97  ['Patient', 'gender', 'female', 'They', 'born'...     N\n",
      "98  ['Patient', 'gender', 'male', 'They', 'born', ...     N\n",
      "99  ['Patient', 'gender', 'female', 'They', 'born'...     N\n",
      "\n",
      "[100 rows x 2 columns]\n"
     ]
    }
   ],
   "source": [
    "input_df = pd.read_csv(\"model_input.csv\")\n",
    "print(input_df)"
   ],
   "metadata": {
    "collapsed": false
   }
  },
  {
   "cell_type": "markdown",
   "source": [
    "make it more readable as input for our model"
   ],
   "metadata": {
    "collapsed": false
   }
  },
  {
   "cell_type": "code",
   "execution_count": 64,
   "outputs": [
    {
     "name": "stdout",
     "output_type": "stream",
     "text": [
      "                                                notes  label\n",
      "0   Patient gender female They born 2094-03-05 00:...      0\n",
      "1   Patient gender female They born 2090-06-05 00:...      0\n",
      "2   Patient gender female They born 2038-09-03 00:...      0\n",
      "3   Patient gender female They born 2075-09-21 00:...      0\n",
      "4   Patient gender male They born 2114-06-20 00:00...      0\n",
      "..                                                ...    ...\n",
      "95  Patient gender male They born 2057-11-15 00:00...      0\n",
      "96  Patient gender male They born 1878-05-14 00:00...      0\n",
      "97  Patient gender female They born 2078-06-16 00:...      0\n",
      "98  Patient gender male They born 2107-06-27 00:00...      0\n",
      "99  Patient gender female They born 2112-10-22 00:...      0\n",
      "\n",
      "[100 rows x 2 columns]\n"
     ]
    }
   ],
   "source": [
    "input_df[\"notes\"] = [' '.join(word_list) for word_list in input_df[\"notes\"].apply(ast.literal_eval)]\n",
    "input_df[\"label\"] = (input_df[\"label\"] == 'Y').astype(int)\n",
    "print(input_df)"
   ],
   "metadata": {
    "collapsed": false
   }
  },
  {
   "cell_type": "markdown",
   "source": [
    "Create training and validation split"
   ],
   "metadata": {
    "collapsed": false
   }
  },
  {
   "cell_type": "code",
   "execution_count": 65,
   "outputs": [
    {
     "name": "stdout",
     "output_type": "stream",
     "text": [
      "                                                notes  label\n",
      "0   Patient gender female They born 2094-03-05 00:...      0\n",
      "1   Patient gender female They born 2090-06-05 00:...      0\n",
      "2   Patient gender female They born 2038-09-03 00:...      0\n",
      "3   Patient gender female They born 2075-09-21 00:...      0\n",
      "4   Patient gender male They born 2114-06-20 00:00...      0\n",
      "5   Patient gender female They born 1895-05-17 00:...      0\n",
      "6   Patient gender female They born 2108-01-15 00:...      1\n",
      "7   Patient gender male They born 2061-04-10 00:00...      0\n",
      "8   Patient gender male They born 2050-03-29 00:00...      0\n",
      "9   Patient gender female They born 2051-04-21 00:...      0\n",
      "10  Patient gender male They born 2053-04-13 00:00...      0\n",
      "11  Patient gender female They born 1885-03-24 00:...      0\n",
      "12  Patient gender female They born 2056-01-27 00:...      0\n",
      "13  Patient gender female They born 2061-10-23 00:...      0\n",
      "14  Patient gender male They born 2076-05-06 00:00...      0\n",
      "15  Patient gender male They born 2109-04-07 00:00...      0\n",
      "16  Patient gender female They born 2071-02-11 00:...      0\n",
      "17  Patient gender female They born 2061-03-25 00:...      0\n",
      "18  Patient gender female They born 2141-03-15 00:...      0\n",
      "19  Patient gender female They born 2046-02-27 00:...      0\n",
      "20  Patient gender male They born 2081-01-03 00:00...      0\n",
      "21  Patient gender female They born 2031-05-19 00:...      1\n",
      "22  Patient gender male They born 2058-04-23 00:00...      0\n",
      "23  Patient gender female They born 2111-07-18 00:...      0\n",
      "24  Patient gender male They born 2101-06-10 00:00...      0\n",
      "25  Patient gender female They born 2146-10-23 00:...      0\n",
      "26  Patient gender male They born 2081-12-26 00:00...      0\n",
      "27  Patient gender male They born 2038-05-10 00:00...      0\n",
      "28  Patient gender female They born 2110-03-25 00:...      0\n",
      "29  Patient gender male They born 2029-07-09 00:00...      0\n",
      "30  Patient gender male They born 2046-04-18 00:00...      0\n",
      "31  Patient gender male They born 2096-02-27 00:00...      0\n",
      "32  Patient gender male They born 2053-09-08 00:00...      0\n",
      "33  Patient gender male They born 1880-02-29 00:00...      0\n",
      "34  Patient gender female They born 2150-12-07 00:...      0\n",
      "35  Patient gender male They born 2055-07-18 00:00...      0\n",
      "36  Patient gender male They born 2035-04-13 00:00...      0\n",
      "37  Patient gender female They born 2050-02-16 00:...      0\n",
      "38  Patient gender male They born 2097-12-16 00:00...      0\n",
      "39  Patient gender female They born 2097-01-16 00:...      1\n",
      "40  Patient gender female They born 2069-05-05 00:...      0\n",
      "41  Patient gender female They born 2099-03-17 00:...      1\n",
      "42  Patient gender female They born 2072-05-05 00:...      0\n",
      "43  Patient gender male They born 2036-03-10 00:00...      0\n",
      "44  Patient gender male They born 2088-05-05 00:00...      0\n",
      "45  Patient gender female They born 2108-12-20 00:...      0\n",
      "46  Patient gender female They born 2127-06-04 00:...      0\n",
      "47  Patient gender female They born 2181-04-19 00:...      0\n",
      "48  Patient gender male They born 2109-07-08 00:00...      0\n",
      "49  Patient gender female They born 2058-04-23 00:...      0\n",
      "                                                notes  label\n",
      "50  Patient gender female They born 2063-07-05 00:...      0\n",
      "51  Patient gender male They born 2082-06-27 00:00...      0\n",
      "52  Patient gender male They born 2079-08-17 00:00...      0\n",
      "53  Patient gender female They born 2070-10-11 00:...      0\n",
      "54  Patient gender female They born 2110-04-02 00:...      0\n",
      "55  Patient gender male They born 2086-12-16 00:00...      0\n",
      "56  Patient gender male They born 2103-12-05 00:00...      0\n",
      "57  Patient gender female They born 2031-08-12 00:...      1\n",
      "58  Patient gender female They born 2097-11-14 00:...      0\n",
      "59  Patient gender female They born 2068-03-04 00:...      1\n",
      "60  Patient gender female They born 2112-01-20 00:...      0\n",
      "61  Patient gender female They born 2073-08-13 00:...      0\n",
      "62  Patient gender female They born 1844-07-18 00:...      0\n",
      "63  Patient gender female They born 2073-06-05 00:...      0\n",
      "64  Patient gender male They born 2096-07-25 00:00...      0\n",
      "65  Patient gender male They born 2090-11-16 00:00...      0\n",
      "66  Patient gender male They born 2136-07-28 00:00...      0\n",
      "67  Patient gender female They born 1851-09-12 00:...      0\n",
      "68  Patient gender female They born 2045-10-07 00:...      1\n",
      "69  Patient gender male They born 2061-06-13 00:00...      0\n",
      "70  Patient gender male They born 2086-02-04 00:00...      0\n",
      "71  Patient gender male They born 2083-09-20 00:00...      0\n",
      "72  Patient gender female They born 2044-06-27 00:...      0\n",
      "73  Patient gender female They born 2016-12-05 00:...      0\n",
      "74  Patient gender male They born 2058-08-04 00:00...      0\n",
      "75  Patient gender female They born 2051-03-23 00:...      0\n",
      "76  Patient gender male They born 2098-04-29 00:00...      0\n",
      "77  Patient gender female They born 2074-09-29 00:...      1\n",
      "78  Patient gender female They born 2041-05-16 00:...      0\n",
      "79  Patient gender female They born 2072-12-03 00:...      1\n",
      "80  Patient gender female They born 2060-02-12 00:...      0\n",
      "81  Patient gender male They born 2079-01-29 00:00...      0\n",
      "82  Patient gender male They born 2061-12-10 00:00...      0\n",
      "83  Patient gender male They born 1846-07-21 00:00...      0\n",
      "84  Patient gender male They born 2046-07-05 00:00...      0\n",
      "85  Patient gender female They born 2029-12-07 00:...      0\n",
      "86  Patient gender male They born 2099-09-02 00:00...      1\n",
      "87  Patient gender male They born 2097-01-07 00:00...      0\n",
      "88  Patient gender male They born 2136-07-29 00:00...      0\n",
      "89  Patient gender female They born 1876-07-14 00:...      0\n",
      "90  Patient gender female They born 2097-05-16 00:...      0\n",
      "91  Patient gender female They born 2051-07-25 00:...      0\n",
      "92  Patient gender male They born 2051-03-24 00:00...      0\n",
      "93  Patient gender female They born 2073-11-22 00:...      0\n",
      "94  Patient gender female They born 2104-02-12 00:...      1\n",
      "95  Patient gender male They born 2057-11-15 00:00...      0\n",
      "96  Patient gender male They born 1878-05-14 00:00...      0\n",
      "97  Patient gender female They born 2078-06-16 00:...      0\n",
      "98  Patient gender male They born 2107-06-27 00:00...      0\n",
      "99  Patient gender female They born 2112-10-22 00:...      0\n"
     ]
    }
   ],
   "source": [
    "split = 50\n",
    "train_df = input_df[:split]\n",
    "valid_df = input_df[split:]\n",
    "print(train_df)\n",
    "print(valid_df)"
   ],
   "metadata": {
    "collapsed": false
   }
  },
  {
   "cell_type": "code",
   "execution_count": 66,
   "outputs": [
    {
     "name": "stdout",
     "output_type": "stream",
     "text": [
      "(50, 491)\n",
      "(50, 491)\n",
      "(1, 50)\n",
      "(1, 50)\n"
     ]
    }
   ],
   "source": [
    "count_vectorizer = CountVectorizer(stop_words='english')\n",
    "train_X = count_vectorizer.fit_transform(train_df[\"notes\"]).toarray()\n",
    "valid_X = count_vectorizer.transform(valid_df[\"notes\"]).toarray()\n",
    "print(train_X.shape)\n",
    "print(valid_X.shape)\n",
    "train_Y = np.array([train_df[\"label\"]])  # is a 2d numpy array, with a row for each comorbidity\n",
    "valid_Y = np.array([valid_df[\"label\"]])   # ^^^\n",
    "print(train_Y.shape)\n",
    "print(valid_Y.shape)"
   ],
   "metadata": {
    "collapsed": false
   }
  },
  {
   "cell_type": "markdown",
   "source": [
    "Make predictions and print out f1 score based for each comorbidity"
   ],
   "metadata": {
    "collapsed": false
   }
  },
  {
   "cell_type": "code",
   "execution_count": 67,
   "outputs": [
    {
     "name": "stdout",
     "output_type": "stream",
     "text": [
      "obesity training f1: 0.8571428571428571\n",
      "obesity validation f1: 0.0\n",
      "\n",
      "Training\n",
      "\toverall f1: 0.8571428571428571\n",
      "\ttn: 46\tfp: 0\tfn: 1\ttp: 3\n",
      "\n",
      "Validation\n",
      "\tf1: 0.0\n",
      "\ttn: 42\tfp: 1\tfn: 7\ttp: 0\n"
     ]
    }
   ],
   "source": [
    "train_f1s, valid_f1s = np.empty(len(comorbidities)), np.empty(len(comorbidities))\n",
    "train_pred_Y, valid_pred_Y = np.empty(train_Y.shape), np.empty(valid_Y.shape)\n",
    "\n",
    "for i in range(len(comorbidities)):     # iterates across each comorbidity\n",
    "    comorbidity, train_y, valid_y = comorbidities[i], train_Y[i], valid_Y[i]\n",
    "    count_clf = LogisticRegression(max_iter=10000).fit(train_X, train_y) # train the classifier\n",
    "\n",
    "    train_pred_Y[i] = count_clf.predict(train_X)\n",
    "    train_f1s[i] = f1_score(train_y, train_pred_Y[i])\n",
    "    print(f\"{comorbidity} training f1: {train_f1s[i]}\")\n",
    "\n",
    "    valid_pred_Y[i] = count_clf.predict(valid_X)\n",
    "    valid_f1s[i] = f1_score(valid_y, valid_pred_Y[i])\n",
    "    print(f\"{comorbidity} validation f1: {valid_f1s[i]}\")\n",
    "\n",
    "flat_train_Y, flat_train_pred_Y = train_Y.flatten(), train_pred_Y.flatten()\n",
    "overall_train_f1 = f1_score(flat_train_Y, flat_train_pred_Y)\n",
    "tn, fp, fn, tp = confusion_matrix(flat_train_Y, flat_train_pred_Y).ravel()\n",
    "print(\"\\nTraining\")\n",
    "print(f\"\\toverall f1: {overall_train_f1}\")\n",
    "print(f\"\\ttn: {tn}\\tfp: {fp}\\tfn: {fn}\\ttp: {tp}\")\n",
    "\n",
    "flat_valid_Y, flat_valid_prep_Y = valid_Y.flatten(), valid_pred_Y.flatten()\n",
    "overall_valid_f1 = f1_score(flat_valid_Y, flat_valid_prep_Y)\n",
    "tn, fp, fn, tp = confusion_matrix(flat_valid_Y, flat_valid_prep_Y).ravel()\n",
    "print(\"\\nValidation\")\n",
    "print(f\"\\tf1: {overall_valid_f1}\")\n",
    "print(f\"\\ttn: {tn}\\tfp: {fp}\\tfn: {fn}\\ttp: {tp}\")"
   ],
   "metadata": {
    "collapsed": false
   }
  }
 ],
 "metadata": {
  "kernelspec": {
   "display_name": "Python 3",
   "language": "python",
   "name": "python3"
  },
  "language_info": {
   "codemirror_mode": {
    "name": "ipython",
    "version": 2
   },
   "file_extension": ".py",
   "mimetype": "text/x-python",
   "name": "python",
   "nbconvert_exporter": "python",
   "pygments_lexer": "ipython2",
   "version": "2.7.6"
  }
 },
 "nbformat": 4,
 "nbformat_minor": 0
}
