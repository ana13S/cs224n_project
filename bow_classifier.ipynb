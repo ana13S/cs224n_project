{
 "cells": [
  {
   "cell_type": "markdown",
   "source": [
    "Import the relevant scikit learn packages"
   ],
   "metadata": {
    "collapsed": false
   }
  },
  {
   "cell_type": "code",
   "execution_count": 3,
   "outputs": [],
   "source": [
    "import numpy as np\n",
    "from sklearn.feature_extraction.text import CountVectorizer\n",
    "from sklearn.linear_model import LogisticRegression\n",
    "from sklearn.metrics import f1_score"
   ],
   "metadata": {
    "collapsed": false
   }
  },
  {
   "cell_type": "markdown",
   "source": [
    "todo way to import the data"
   ],
   "metadata": {
    "collapsed": false
   }
  },
  {
   "cell_type": "code",
   "execution_count": null,
   "outputs": [],
   "source": [
    "comorbidities = []"
   ],
   "metadata": {
    "collapsed": false
   }
  },
  {
   "cell_type": "code",
   "execution_count": null,
   "outputs": [],
   "source": [
    "count_vectorizer = CountVectorizer(stop_words={'english'})\n",
    "train_docs = [] # todo should be list of document strings\n",
    "valid_docs = [] # ^^^\n",
    "train_X = count_vectorizer.fit_transform(train_docs).toarray()\n",
    "valid_X = count_vectorizer.transform(valid_docs).toarray()\n",
    "train_Y = np.empty(1)  # is a 2d numpy array, each row is the True/False value for each comorbidity\n",
    "valid_Y = np.empty(1)   # ^^^"
   ],
   "metadata": {
    "collapsed": false
   }
  },
  {
   "cell_type": "markdown",
   "source": [
    "Make predictions and print out f1 score based for each comorbidity"
   ],
   "metadata": {
    "collapsed": false
   }
  },
  {
   "cell_type": "code",
   "execution_count": null,
   "outputs": [],
   "source": [
    "train_f1s, valid_f1s = np.empty(len(comorbidities)), np.empty(len(comorbidities))\n",
    "train_pred_Y, valid_pred_Y = np.empty(train_Y.shape), np.empty(valid_Y.shape)\n",
    "\n",
    "for i in range(len(comorbidities)):     # iterates across each comorbidity\n",
    "    comorbidity, train_y, valid_y = comorbidities[i], train_Y[i], valid_Y[i]\n",
    "    count_clf = LogisticRegression(max_iter=1000).fit(train_X, train_y) # train the classifier\n",
    "\n",
    "    train_pred_Y[i] = count_clf.predict(train_X)\n",
    "    train_f1s[i] = f1_score(train_y, train_pred_Y[i])\n",
    "    print(f\"{comorbidity} training f1: {train_f1s[i]}\")\n",
    "\n",
    "    valid_pred_Y[i] = count_clf.predict(valid_X)\n",
    "    valid_f1s = f1_score(valid_y, valid_pred_Y[i])\n",
    "    print(f\"{comorbidity} validation f1: {valid_f1s[i]}\")\n",
    "\n",
    "print(\"\")\n",
    "\n",
    "overall_train_f1 = f1_score(train_Y.flatten(), train_pred_Y.flatten())\n",
    "print(f\"overall training f1: {overall_train_f1}\")\n",
    "\n",
    "overall_valid_f1 = f1_score(valid_Y.flatten(), valid_pred_Y.flatten())\n",
    "print(f\"overall validation f1: {overall_valid_f1}\")"
   ],
   "metadata": {
    "collapsed": false
   }
  }
 ],
 "metadata": {
  "kernelspec": {
   "display_name": "Python 3",
   "language": "python",
   "name": "python3"
  },
  "language_info": {
   "codemirror_mode": {
    "name": "ipython",
    "version": 2
   },
   "file_extension": ".py",
   "mimetype": "text/x-python",
   "name": "python",
   "nbconvert_exporter": "python",
   "pygments_lexer": "ipython2",
   "version": "2.7.6"
  }
 },
 "nbformat": 4,
 "nbformat_minor": 0
}
