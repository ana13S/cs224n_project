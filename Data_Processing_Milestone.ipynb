{
  "cells": [
    {
      "cell_type": "markdown",
      "metadata": {
        "colab_type": "text",
        "id": "view-in-github"
      },
      "source": [
        "<a href=\"https://colab.research.google.com/github/ana13S/cs224n_project/blob/main/Data_Processing_Milestone.ipynb\" target=\"_parent\"><img src=\"https://colab.research.google.com/assets/colab-badge.svg\" alt=\"Open In Colab\"/></a>"
      ]
    },
    {
      "cell_type": "code",
      "execution_count": 52,
      "metadata": {
        "id": "zSmRxgMCfmmK"
      },
      "outputs": [],
      "source": [
        "import pandas as pd"
      ]
    },
    {
      "cell_type": "markdown",
      "metadata": {
        "id": "mwBCPfm9g8ZQ"
      },
      "source": [
        "Import datasets"
      ]
    },
    {
      "cell_type": "code",
      "execution_count": 53,
      "metadata": {
        "id": "I4m5UJYnfv87"
      },
      "outputs": [],
      "source": [
        "icd = pd.read_csv(r'DIAGNOSES_ICD.csv', dtype=\"str\")\n",
        "patients = pd.read_csv(r'PATIENTS.csv', dtype=\"str\")\n",
        "drugs = pd.read_csv(r'PRESCRIPTIONS.csv', dtype=\"str\")"
      ]
    },
    {
      "cell_type": "markdown",
      "metadata": {
        "id": "XKtT4Pf2g9-j"
      },
      "source": [
        "Simulate clinical notes using structured EHR data"
      ]
    },
    {
      "cell_type": "code",
      "execution_count": 54,
      "metadata": {
        "id": "fW30RpbHg5ji"
      },
      "outputs": [],
      "source": [
        "for index, row in icd.iterrows():\n",
        "    subject_id = row[\"subject_id\"]\n",
        "    notes = \"\"\n",
        "\n",
        "    # Find gender\n",
        "    patient = patients.loc[patients[\"subject_id\"] == subject_id]\n",
        "    if patient.iloc[0, 2] == \"M\":\n",
        "      notes += \"Patient gender is male \"\n",
        "    else:\n",
        "      notes += \"Patient gender is female \"\n",
        "    \n",
        "    # Find dob\n",
        "    notes += \"They were born on \" + patient.iloc[0, 3] + \" \"\n",
        "    \n",
        "    # Find prescription drugs\n",
        "    drug_list = drugs.loc[drugs[\"subject_id\"] == subject_id]\n",
        "    if drug_list is not None:\n",
        "      notes += \" Prescription drugs are \"\n",
        "    for i, r in drug_list.iterrows():\n",
        "      notes += r[\"drug\"] + \" \"\n",
        "    icd.at[index, \"notes\"] = notes\n",
        "\n",
        "\n",
        "icd.to_csv('simulated_notes.csv')\n",
        "\n"
      ]
    },
    {
      "cell_type": "markdown",
      "metadata": {
        "id": "1mWQP6Ayxg4T"
      },
      "source": [
        "Remove stop words"
      ]
    },
    {
      "cell_type": "code",
      "execution_count": 55,
      "metadata": {
        "colab": {
          "base_uri": "https://localhost:8080/",
          "height": 125
        },
        "id": "zC54Oy0_uqyq",
        "outputId": "95aef4ff-7e6b-42da-cc94-1a0987aa7ee9"
      },
      "outputs": [
        {
          "data": {
            "application/vnd.google.colaboratory.intrinsic+json": {
              "type": "string"
            },
            "text/plain": [
              "'import nltk\\nnltk.download(\\'stopwords\\')\\nnltk.download(\\'punkt\\')\\n\\nstop_words = set(stopwords.words(\\'english\\'))\\n  \\nfor index, row in icd.iterrows():\\n  word_tokens = word_tokenize(row[\"notes\"])\\n\\n  filtered_sentence = [w for w in word_tokens if not w.lower() in stop_words]\\n  filtered_sentence = []\\n  \\n  for w in word_tokens:\\n    if w not in stop_words:\\n      filtered_sentence.append(w)\\n  icd.at[index, \"notes\"] = filtered_sentence\\n\\nicd.to_csv(\\'preprocessed_simulated_notes.csv\\')'"
            ]
          },
          "execution_count": 55,
          "metadata": {},
          "output_type": "execute_result"
        }
      ],
      "source": [
        "\"\"\"import nltk\n",
        "nltk.download('stopwords')\n",
        "nltk.download('punkt')\n",
        "\n",
        "stop_words = set(stopwords.words('english'))\n",
        "  \n",
        "for index, row in icd.iterrows():\n",
        "  word_tokens = word_tokenize(row[\"notes\"])\n",
        "\n",
        "  filtered_sentence = [w for w in word_tokens if not w.lower() in stop_words]\n",
        "  filtered_sentence = []\n",
        "  \n",
        "  for w in word_tokens:\n",
        "    if w not in stop_words:\n",
        "      filtered_sentence.append(w)\n",
        "  icd.at[index, \"notes\"] = filtered_sentence\n",
        "\n",
        "icd.to_csv('preprocessed_simulated_notes.csv')\"\"\""
      ]
    },
    {
      "cell_type": "markdown",
      "metadata": {
        "id": "M2ZrRab1y39W"
      },
      "source": [
        "Create input for models"
      ]
    },
    {
      "cell_type": "code",
      "execution_count": 56,
      "metadata": {
        "colab": {
          "base_uri": "https://localhost:8080/"
        },
        "id": "_tBDo8Zby3Jg",
        "outputId": "55f3336b-ac38-4df0-a7a2-dba6ad4d0c03"
      },
      "outputs": [
        {
          "name": "stdout",
          "output_type": "stream",
          "text": [
            "                                                  notes label\n",
            "0     Patient gender is female They were born on 209...     0\n",
            "21    Patient gender is female They were born on 209...     0\n",
            "27    Patient gender is female They were born on 203...     0\n",
            "36    Patient gender is female They were born on 207...     0\n",
            "50    Patient gender is male They were born on 2114-...     0\n",
            "...                                                 ...   ...\n",
            "1691  Patient gender is male They were born on 2057-...     0\n",
            "1706  Patient gender is male They were born on 1878-...     0\n",
            "1715  Patient gender is female They were born on 207...     0\n",
            "1739  Patient gender is male They were born on 2107-...     0\n",
            "1750  Patient gender is female They were born on 211...     0\n",
            "\n",
            "[100 rows x 2 columns]\n"
          ]
        }
      ],
      "source": [
        "from tables.description import IsDescription\n",
        "input = pd.DataFrame(index=range(len(icd.index)), columns=[\"notes\", \"label\"])\n",
        "obesity_icds = ['278', '493', '414', '428', '296', '250', '560', '530', '274', \n",
        "                '272', '401', '272', '32723', '7151', '4439', '45981']\n",
        "# 278 maps to obesity diagnoses in ICD-9\n",
        "ids = []\n",
        "\n",
        "for index, row in icd.iterrows():\n",
        "  if icd.at[index, \"subject_id\"] not in ids:\n",
        "    input.at[index, \"label\"] = 0\n",
        "    input.at[index, \"notes\"] = icd.at[index, \"notes\"]\n",
        "    ids.append(icd.at[index, \"subject_id\"])\n",
        "  \n",
        "  for code in obesity_icds:\n",
        "    if icd.at[index, \"icd9_code\"].startswith(code):\n",
        "      input.at[index, \"label\"] = 1\n",
        "  \n",
        "input = input.dropna()\n",
        "print(input)\n",
        "input.to_csv('model_input.csv', index=False)\n"
      ]
    }
  ],
  "metadata": {
    "colab": {
      "authorship_tag": "ABX9TyMs7s7NgaNFQZ9jYbTrhmhj",
      "include_colab_link": true,
      "provenance": []
    },
    "kernelspec": {
      "display_name": "Python 3",
      "name": "python3"
    },
    "language_info": {
      "name": "python"
    }
  },
  "nbformat": 4,
  "nbformat_minor": 0
}
